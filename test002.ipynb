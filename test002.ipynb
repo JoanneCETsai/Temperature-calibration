{
 "cells": [
  {
   "cell_type": "code",
   "execution_count": 1,
   "id": "361b0ea3",
   "metadata": {},
   "outputs": [],
   "source": [
    "def sayhi(name):\n",
    "    print(\"Hello!\",name,\"!\")"
   ]
  },
  {
   "cell_type": "code",
   "execution_count": 4,
   "id": "e28b9000",
   "metadata": {},
   "outputs": [],
   "source": [
    "def saybye(name):\n",
    "    print(\"bye!\",name)"
   ]
  },
  {
   "cell_type": "code",
   "execution_count": 5,
   "id": "cc441390",
   "metadata": {
    "scrolled": true
   },
   "outputs": [
    {
     "name": "stdout",
     "output_type": "stream",
     "text": [
      "bye! Harry\n"
     ]
    }
   ],
   "source": [
    "saybye(\"Harry\")"
   ]
  },
  {
   "cell_type": "code",
   "execution_count": null,
   "id": "68bd6040",
   "metadata": {},
   "outputs": [],
   "source": []
  }
 ],
 "metadata": {
  "kernelspec": {
   "display_name": "Python 3 (ipykernel)",
   "language": "python",
   "name": "python3"
  },
  "language_info": {
   "codemirror_mode": {
    "name": "ipython",
    "version": 3
   },
   "file_extension": ".py",
   "mimetype": "text/x-python",
   "name": "python",
   "nbconvert_exporter": "python",
   "pygments_lexer": "ipython3",
   "version": "3.9.0"
  }
 },
 "nbformat": 4,
 "nbformat_minor": 5
}
